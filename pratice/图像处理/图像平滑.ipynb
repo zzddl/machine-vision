{
 "cells": [
  {
   "cell_type": "markdown",
   "id": "78a51c7e",
   "metadata": {},
   "source": [
    "# 图像平滑"
   ]
  },
  {
   "cell_type": "code",
   "execution_count": 1,
   "id": "165d954e",
   "metadata": {},
   "outputs": [],
   "source": [
    "import cv2\n",
    "import numpy as np"
   ]
  },
  {
   "cell_type": "code",
   "execution_count": 2,
   "id": "7f2cfe7e",
   "metadata": {},
   "outputs": [],
   "source": [
    "img = cv2.imread('lenaNoise.png')"
   ]
  },
  {
   "cell_type": "code",
   "execution_count": 3,
   "id": "dcfb1457",
   "metadata": {},
   "outputs": [],
   "source": [
    "def cv_show(name,img):\n",
    "    cv2.imshow(name,img)\n",
    "    cv2.waitKey()\n",
    "    cv2.destroyAllWindows()"
   ]
  },
  {
   "cell_type": "code",
   "execution_count": 4,
   "id": "34098097",
   "metadata": {},
   "outputs": [],
   "source": [
    "# 均值滤波\n",
    "# 简单的平均卷积操作\n",
    "blur = cv2.blur(img,(3,3))\n",
    "cv_show('blur',blur)"
   ]
  },
  {
   "cell_type": "code",
   "execution_count": 5,
   "id": "bf4c2b04",
   "metadata": {},
   "outputs": [],
   "source": [
    "# 方框滤波\n",
    "# 基本上和均值一样，可以选择归一化\n",
    "box = cv2.boxFilter(img,-1,(3,3),normalize = True)\n",
    "cv_show('box',box)"
   ]
  },
  {
   "cell_type": "code",
   "execution_count": 6,
   "id": "c5b6f4cc",
   "metadata": {},
   "outputs": [],
   "source": [
    "# 方框滤波\n",
    "# 基本上和均值一样，可以选择归一化，容易越界\n",
    "box = cv2.boxFilter(img,-1,(3,3),normalize = False)\n",
    "cv_show('box',box)"
   ]
  },
  {
   "cell_type": "code",
   "execution_count": 7,
   "id": "769a1fe4",
   "metadata": {},
   "outputs": [],
   "source": [
    "# 高斯滤波\n",
    "# 高斯滤波的卷积核里的数值是满足高斯分布的，相当于更加重视中间的\n",
    "aussion = cv2.GaussianBlur(img,(5,5),1)\n",
    "cv_show('aussion',aussion)"
   ]
  },
  {
   "cell_type": "code",
   "execution_count": 8,
   "id": "d67b3120",
   "metadata": {},
   "outputs": [],
   "source": [
    "# 中值滤波\n",
    "# 相当于用中值代替\n",
    "median = cv2.medianBlur(img,5)\n",
    "cv_show('median',median)"
   ]
  },
  {
   "cell_type": "code",
   "execution_count": 9,
   "id": "089a110d",
   "metadata": {},
   "outputs": [],
   "source": [
    "res = np.hstack((blur,aussion,median))\n",
    "cv_show('res',res)"
   ]
  }
 ],
 "metadata": {
  "kernelspec": {
   "display_name": "Python 3 (ipykernel)",
   "language": "python",
   "name": "python3"
  },
  "language_info": {
   "codemirror_mode": {
    "name": "ipython",
    "version": 3
   },
   "file_extension": ".py",
   "mimetype": "text/x-python",
   "name": "python",
   "nbconvert_exporter": "python",
   "pygments_lexer": "ipython3",
   "version": "3.9.12"
  }
 },
 "nbformat": 4,
 "nbformat_minor": 5
}
