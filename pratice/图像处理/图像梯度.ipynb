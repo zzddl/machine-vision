{
 "cells": [
  {
   "cell_type": "markdown",
   "id": "007d2f24",
   "metadata": {},
   "source": [
    "# 图像梯度"
   ]
  },
  {
   "cell_type": "markdown",
   "id": "6a62c2a4",
   "metadata": {},
   "source": [
    "## Sobel算子\n",
    "左减右，上减下"
   ]
  },
  {
   "cell_type": "code",
   "execution_count": 1,
   "id": "0ec08769",
   "metadata": {},
   "outputs": [],
   "source": [
    "import cv2\n",
    "import numpy as np"
   ]
  },
  {
   "cell_type": "code",
   "execution_count": 2,
   "id": "74b20f3d",
   "metadata": {},
   "outputs": [],
   "source": [
    "img = cv2.imread('pie.png',cv2.IMREAD_GRAYSCALE)\n",
    "cv2.imshow('img', img)\n",
    "cv2.waitKey(0)\n",
    "cv2.destroyAllWindows()"
   ]
  },
  {
   "cell_type": "markdown",
   "id": "a3b807ea",
   "metadata": {},
   "source": [
    "dst = cv2.Sobel(src,ddepth, dx, dy, ksize)\n",
    "- ddepth:代表图像的深度\n",
    "- dx和dy代表水平和竖直方向\n",
    "- ksize代表Sobel算子的大小"
   ]
  },
  {
   "cell_type": "code",
   "execution_count": 3,
   "id": "0a5e02c0",
   "metadata": {},
   "outputs": [],
   "source": [
    "def cv_show(img, name):\n",
    "    cv2.imshow(name,img)\n",
    "    cv2.waitKey()\n",
    "    cv2.destroyAllWindows()"
   ]
  },
  {
   "cell_type": "code",
   "execution_count": 4,
   "id": "eefc2b26",
   "metadata": {},
   "outputs": [],
   "source": [
    "sobelx = cv2.Sobel(img,cv2.CV_64F,1,0,ksize = 3)\n",
    "cv_show(sobelx,'sobelx')"
   ]
  },
  {
   "cell_type": "markdown",
   "id": "7eb772ca",
   "metadata": {},
   "source": [
    "右边减去左边，白减黑是白边，黑减白（负数）是黑边（所有的负数会被截断为0，所以说要取绝对值）。所以说只有左边的半圆"
   ]
  },
  {
   "cell_type": "code",
   "execution_count": 5,
   "id": "f6abc529",
   "metadata": {},
   "outputs": [],
   "source": [
    "sobelx = cv2.Sobel(img,cv2.CV_64F,1,0,ksize = 3)\n",
    "sobelx = cv2.convertScaleAbs(sobelx)  # 取绝对值\n",
    "cv_show(sobelx,'sobelx')\n"
   ]
  },
  {
   "cell_type": "code",
   "execution_count": 6,
   "id": "10d60e25",
   "metadata": {
    "scrolled": true
   },
   "outputs": [],
   "source": [
    "sobely = cv2.Sobel(img,cv2.CV_64F,0,1,ksize = 3)\n",
    "sobely = cv2.convertScaleAbs(sobely)  # 取绝对值\n",
    "cv_show(sobely,'sobely')"
   ]
  },
  {
   "cell_type": "markdown",
   "id": "f4e6704e",
   "metadata": {},
   "source": [
    "分别计算Gx和Gy，然后再相加"
   ]
  },
  {
   "cell_type": "code",
   "execution_count": 7,
   "id": "28faf0ab",
   "metadata": {},
   "outputs": [],
   "source": [
    "sobelxy = cv2.addWeighted(sobelx,0.5,sobely,0.5,0)\n",
    "cv_show(sobelxy,'sobelxy')"
   ]
  },
  {
   "cell_type": "markdown",
   "id": "5e24b409",
   "metadata": {},
   "source": [
    "直接计算（不建议）"
   ]
  },
  {
   "cell_type": "code",
   "execution_count": 8,
   "id": "06a275a9",
   "metadata": {},
   "outputs": [],
   "source": [
    "sobelxy = cv2.Sobel(img,cv2.CV_64F,1,1,ksize = 3)\n",
    "sobelxy = cv2.convertScaleAbs(sobelxy)  # 取绝对值\n",
    "cv_show(sobelxy,'sobelxy')"
   ]
  },
  {
   "cell_type": "code",
   "execution_count": 13,
   "id": "4a0854dd",
   "metadata": {},
   "outputs": [],
   "source": [
    "img1 = cv2.imread('lenna.png',cv2.IMREAD_GRAYSCALE)\n",
    "sobelx = cv2.Sobel(img1,cv2.CV_64F,0,1,ksize = 3)\n",
    "sobelx = cv2.convertScaleAbs(sobelx)  # 取绝对值\n",
    "sobely = cv2.Sobel(img1,cv2.CV_64F,1,0,ksize = 3)\n",
    "sobely = cv2.convertScaleAbs(sobely)  # 取绝对值\n",
    "sobelxy = cv2.addWeighted(sobelx,0.5,sobely,0.5,0)\n",
    "cv_show(sobelxy,'sobelxy')"
   ]
  },
  {
   "cell_type": "code",
   "execution_count": 12,
   "id": "d792f27b",
   "metadata": {},
   "outputs": [],
   "source": [
    "sobelxy = cv2.Sobel(img1,cv2.CV_64F,1,1,ksize = 3)\n",
    "sobelxy = cv2.convertScaleAbs(sobelxy)\n",
    "cv_show(sobelxy,'sobelxy')"
   ]
  },
  {
   "cell_type": "markdown",
   "id": "9792208d",
   "metadata": {},
   "source": [
    "## 图像梯度-Scharr算子"
   ]
  },
  {
   "cell_type": "markdown",
   "id": "cc67c375",
   "metadata": {},
   "source": [
    "## 图像梯度－laplacian算子"
   ]
  },
  {
   "cell_type": "code",
   "execution_count": 17,
   "id": "31c6136a",
   "metadata": {},
   "outputs": [],
   "source": [
    "img1 = cv2.imread('lenna.png',cv2.IMREAD_GRAYSCALE)\n",
    "sobelx = cv2.Sobel(img1,cv2.CV_64F,0,1,ksize = 3)\n",
    "sobelx = cv2.convertScaleAbs(sobelx)  # 取绝对值\n",
    "sobely = cv2.Sobel(img1,cv2.CV_64F,1,0,ksize = 3)\n",
    "sobely = cv2.convertScaleAbs(sobely)  # 取绝对值\n",
    "sobelxy = cv2.addWeighted(sobelx,0.5,sobely,0.5,0)\n",
    "\n",
    "scharrx = cv2.Scharr(img1,cv2.CV_64F,1,0)\n",
    "scharrx = cv2.convertScaleAbs(scharrx)\n",
    "scharry = cv2.Scharr(img1,cv2.CV_64F,0,1)\n",
    "scharry = cv2.convertScaleAbs(scharry)\n",
    "scharrxy = cv2.addWeighted(scharrx,0.5,scharry,0.5,0)\n",
    "\n",
    "laplacian = cv2.Laplacian(img1,cv2.CV_64F)\n",
    "laplacian = cv2.convertScaleAbs(laplacian)\n",
    "\n",
    "res = np.hstack((sobelxy,scharrxy,laplacian))\n",
    "cv_show(res,'res')"
   ]
  }
 ],
 "metadata": {
  "kernelspec": {
   "display_name": "Python 3 (ipykernel)",
   "language": "python",
   "name": "python3"
  },
  "language_info": {
   "codemirror_mode": {
    "name": "ipython",
    "version": 3
   },
   "file_extension": ".py",
   "mimetype": "text/x-python",
   "name": "python",
   "nbconvert_exporter": "python",
   "pygments_lexer": "ipython3",
   "version": "3.9.12"
  }
 },
 "nbformat": 4,
 "nbformat_minor": 5
}
