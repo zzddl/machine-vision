{
 "cells": [
  {
   "cell_type": "code",
   "execution_count": 1,
   "id": "213ee4c8",
   "metadata": {},
   "outputs": [],
   "source": [
    "import numpy as np"
   ]
  },
  {
   "cell_type": "code",
   "execution_count": 3,
   "id": "cfe370fd",
   "metadata": {},
   "outputs": [
    {
     "data": {
      "text/plain": [
       "array([0.41605111, 0.21975379, 0.47349541])"
      ]
     },
     "execution_count": 3,
     "metadata": {},
     "output_type": "execute_result"
    }
   ],
   "source": [
    "np.ones(3)\n",
    "np.zeros(3)\n",
    "np.random.random(3)"
   ]
  },
  {
   "cell_type": "code",
   "execution_count": 4,
   "id": "5df7d73e",
   "metadata": {},
   "outputs": [],
   "source": [
    "data = np.array([1, 2])\n",
    "ones = np.ones(2)"
   ]
  },
  {
   "cell_type": "code",
   "execution_count": 5,
   "id": "baf37d2f",
   "metadata": {},
   "outputs": [
    {
     "name": "stdout",
     "output_type": "stream",
     "text": [
      "[2. 3.]\n"
     ]
    }
   ],
   "source": [
    "print(data+ones)"
   ]
  },
  {
   "cell_type": "markdown",
   "id": "865fe43c",
   "metadata": {},
   "source": [
    "numpy中的乘法是一种广播机制"
   ]
  },
  {
   "cell_type": "markdown",
   "id": "a026e09c",
   "metadata": {},
   "source": [
    "## 索引"
   ]
  },
  {
   "cell_type": "code",
   "execution_count": 7,
   "id": "b85d0645",
   "metadata": {},
   "outputs": [
    {
     "name": "stdout",
     "output_type": "stream",
     "text": [
      "[1 2]\n"
     ]
    }
   ],
   "source": [
    "data = np.array([1,2,3])\n",
    "print(data[:2])"
   ]
  },
  {
   "cell_type": "markdown",
   "id": "fe9ad6cd",
   "metadata": {},
   "source": [
    "## 聚合"
   ]
  },
  {
   "cell_type": "code",
   "execution_count": 8,
   "id": "c0585da5",
   "metadata": {},
   "outputs": [
    {
     "name": "stdout",
     "output_type": "stream",
     "text": [
      "3\n",
      "1\n",
      "6\n"
     ]
    }
   ],
   "source": [
    "print(data.max())\n",
    "print(data.min())\n",
    "print(data.sum())"
   ]
  },
  {
   "cell_type": "markdown",
   "id": "a68840f6",
   "metadata": {},
   "source": [
    "当是多维数组时，如果两个矩阵的行列数相同，就可以使用运算符对矩阵进行运算。"
   ]
  },
  {
   "cell_type": "code",
   "execution_count": 10,
   "id": "b32971a5",
   "metadata": {},
   "outputs": [
    {
     "name": "stdout",
     "output_type": "stream",
     "text": [
      "[[2. 3.]\n",
      " [4. 5.]]\n"
     ]
    }
   ],
   "source": [
    "data = np.array([[1,2],[3,4]])\n",
    "ones = np.ones((2,2))\n",
    "print(data+ones)"
   ]
  },
  {
   "cell_type": "code",
   "execution_count": 12,
   "id": "4932759b",
   "metadata": {},
   "outputs": [
    {
     "name": "stdout",
     "output_type": "stream",
     "text": [
      "[[2. 3.]\n",
      " [4. 5.]\n",
      " [6. 7.]]\n"
     ]
    }
   ],
   "source": [
    "data = np.array([[1,2],[3,4],[5,6]])\n",
    "ones = np.ones((1,2))  # 这种形状不同的相加，必须是一个一维的（只有一行或一列）\n",
    "print(data+ones)"
   ]
  },
  {
   "cell_type": "markdown",
   "id": "290e83fb",
   "metadata": {},
   "source": [
    "## 矩阵点积\n",
    "矩阵相乘使用dot()"
   ]
  },
  {
   "cell_type": "code",
   "execution_count": 15,
   "id": "bc295547",
   "metadata": {},
   "outputs": [
    {
     "data": {
      "text/plain": [
       "array([ 30201, 302010])"
      ]
     },
     "execution_count": 15,
     "metadata": {},
     "output_type": "execute_result"
    }
   ],
   "source": [
    "data = np.array([1,2,3])\n",
    "power_of_ten = np.array([[1,10],[100,1000],[10000,100000]])\n",
    "data.dot(power_of_ten)"
   ]
  },
  {
   "cell_type": "markdown",
   "id": "a72100f5",
   "metadata": {},
   "source": [
    "## 矩阵索引"
   ]
  },
  {
   "cell_type": "code",
   "execution_count": 21,
   "id": "28330a9b",
   "metadata": {},
   "outputs": [
    {
     "name": "stdout",
     "output_type": "stream",
     "text": [
      "2\n",
      "[[3 4]\n",
      " [5 6]]\n",
      "[1 3]\n",
      "[3 4]\n",
      "[[1 2]\n",
      " [3 4]]\n"
     ]
    }
   ],
   "source": [
    "data = np.array([[1,2],[3,4],[5,6]])\n",
    "print(data[0,1])\n",
    "print(data[1:3])\n",
    "print(data[0:2,0])\n",
    "print(data[1,0:2])\n",
    "print(data[0:2,0:2])"
   ]
  },
  {
   "cell_type": "markdown",
   "id": "44d6786e",
   "metadata": {},
   "source": [
    "## 矩阵聚合"
   ]
  },
  {
   "cell_type": "code",
   "execution_count": 22,
   "id": "16c8be4e",
   "metadata": {},
   "outputs": [
    {
     "name": "stdout",
     "output_type": "stream",
     "text": [
      "6\n",
      "1\n",
      "21\n"
     ]
    }
   ],
   "source": [
    "data = np.array([[1,2],[3,4],[5,6]])\n",
    "print(data.max())\n",
    "print(data.min())\n",
    "print(data.sum())"
   ]
  },
  {
   "cell_type": "code",
   "execution_count": 23,
   "id": "c13e97f4",
   "metadata": {},
   "outputs": [
    {
     "name": "stdout",
     "output_type": "stream",
     "text": [
      "[[1 2]\n",
      " [3 4]\n",
      " [5 6]]\n",
      "[5 6]\n",
      "[2 4 6]\n"
     ]
    }
   ],
   "source": [
    "print(data)\n",
    "print(data.max(axis=0))\n",
    "print(data.max(axis=1))"
   ]
  },
  {
   "cell_type": "markdown",
   "id": "85ca1ad5",
   "metadata": {},
   "source": [
    "## 置换和变形"
   ]
  },
  {
   "cell_type": "code",
   "execution_count": 25,
   "id": "8e0019a7",
   "metadata": {},
   "outputs": [
    {
     "name": "stdout",
     "output_type": "stream",
     "text": [
      "[1 2 3 4 5 6]\n",
      "[[1 2 3]\n",
      " [4 5 6]]\n",
      "[[1 2]\n",
      " [3 4]\n",
      " [5 6]]\n",
      "[1 2 3 4 5 6]\n"
     ]
    }
   ],
   "source": [
    "data = np.array([1,2,3,4,5,6])\n",
    "print(data)\n",
    "print(data.reshape(2,3))\n",
    "print(data.reshape(3,2))\n",
    "print(data.reshape(-1))"
   ]
  },
  {
   "cell_type": "markdown",
   "id": "c065a57a",
   "metadata": {},
   "source": [
    "## 更高维度"
   ]
  },
  {
   "cell_type": "code",
   "execution_count": 26,
   "id": "5498b818",
   "metadata": {},
   "outputs": [
    {
     "name": "stdout",
     "output_type": "stream",
     "text": [
      "[[[1. 1.]\n",
      "  [1. 1.]\n",
      "  [1. 1.]]\n",
      "\n",
      " [[1. 1.]\n",
      "  [1. 1.]\n",
      "  [1. 1.]]\n",
      "\n",
      " [[1. 1.]\n",
      "  [1. 1.]\n",
      "  [1. 1.]]\n",
      "\n",
      " [[1. 1.]\n",
      "  [1. 1.]\n",
      "  [1. 1.]]]\n",
      "[[[0. 0.]\n",
      "  [0. 0.]\n",
      "  [0. 0.]]\n",
      "\n",
      " [[0. 0.]\n",
      "  [0. 0.]\n",
      "  [0. 0.]]\n",
      "\n",
      " [[0. 0.]\n",
      "  [0. 0.]\n",
      "  [0. 0.]]\n",
      "\n",
      " [[0. 0.]\n",
      "  [0. 0.]\n",
      "  [0. 0.]]]\n",
      "[[[0.10264037 0.43852981]\n",
      "  [0.31351202 0.38193831]\n",
      "  [0.08793139 0.65289554]]\n",
      "\n",
      " [[0.74850911 0.83972405]\n",
      "  [0.36911701 0.3907665 ]\n",
      "  [0.86326465 0.30009676]]\n",
      "\n",
      " [[0.49616114 0.32526322]\n",
      "  [0.49605381 0.50414538]\n",
      "  [0.39164469 0.15634292]]\n",
      "\n",
      " [[0.62553319 0.21139228]\n",
      "  [0.22070375 0.93866223]\n",
      "  [0.51011107 0.52300815]]]\n"
     ]
    }
   ],
   "source": [
    "print(np.ones((4,3,2)))\n",
    "print(np.zeros((4,3,2)))\n",
    "print(np.random.random((4,3,2)))"
   ]
  },
  {
   "cell_type": "code",
   "execution_count": null,
   "id": "bf555eee",
   "metadata": {},
   "outputs": [],
   "source": []
  }
 ],
 "metadata": {
  "kernelspec": {
   "display_name": "Python 3 (ipykernel)",
   "language": "python",
   "name": "python3"
  },
  "language_info": {
   "codemirror_mode": {
    "name": "ipython",
    "version": 3
   },
   "file_extension": ".py",
   "mimetype": "text/x-python",
   "name": "python",
   "nbconvert_exporter": "python",
   "pygments_lexer": "ipython3",
   "version": "3.9.12"
  }
 },
 "nbformat": 4,
 "nbformat_minor": 5
}
