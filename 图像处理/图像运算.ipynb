{
 "cells": [
  {
   "cell_type": "markdown",
   "id": "6286195e",
   "metadata": {},
   "source": [
    "# 图像运算"
   ]
  },
  {
   "cell_type": "markdown",
   "id": "16debf68",
   "metadata": {},
   "source": [
    "## 按位运算"
   ]
  },
  {
   "cell_type": "code",
   "execution_count": 14,
   "id": "b8a2ddd7",
   "metadata": {},
   "outputs": [],
   "source": [
    "import cv2\n",
    "import numpy as np"
   ]
  },
  {
   "cell_type": "code",
   "execution_count": 15,
   "id": "35b9624c",
   "metadata": {},
   "outputs": [],
   "source": [
    "e1 = cv2.getTickCount()\n",
    "img1 = cv2.imread('roi.jpg')\n",
    "img2 = cv2.imread('opencv_logo.PNG')\n",
    "\n",
    "rows, cols, channels = img2.shape\n",
    "roi = img1[0:rows, 0:cols]\n"
   ]
  },
  {
   "cell_type": "code",
   "execution_count": 16,
   "id": "e1864e71",
   "metadata": {},
   "outputs": [],
   "source": [
    "img2gray = cv2.cvtColor(img2, cv2.COLOR_BGR2GRAY)\n",
    "ret, mask = cv2.threshold(img2gray, 175, 255, cv2.THRESH_BINARY)\n",
    "mask_inv = cv2.bitwise_not(mask)"
   ]
  },
  {
   "cell_type": "code",
   "execution_count": 17,
   "id": "83aaa3f5",
   "metadata": {},
   "outputs": [],
   "source": [
    "img1_bg = cv2.bitwise_and(roi, roi, mask = mask)\n",
    "img2_fg = cv2.bitwise_and(img2, img2, mask = mask_inv)"
   ]
  },
  {
   "cell_type": "code",
   "execution_count": 18,
   "id": "c01f35fe",
   "metadata": {},
   "outputs": [
    {
     "name": "stdout",
     "output_type": "stream",
     "text": [
      "0.021887\n"
     ]
    }
   ],
   "source": [
    "dst = cv2.add(img1_bg,img2_fg)\n",
    "img1[0:rows, 0:cols] = dst\n",
    "e2 = cv2.getTickCount()\n",
    "t = (e2 - e1)/cv2.getTickFrequency()\n",
    "print(t)\n",
    "cv2.imshow('res', img1)\n",
    "cv2.waitKey(0)\n",
    "cv2.destroyAllWindows()\n"
   ]
  }
 ],
 "metadata": {
  "kernelspec": {
   "display_name": "Python 3 (ipykernel)",
   "language": "python",
   "name": "python3"
  },
  "language_info": {
   "codemirror_mode": {
    "name": "ipython",
    "version": 3
   },
   "file_extension": ".py",
   "mimetype": "text/x-python",
   "name": "python",
   "nbconvert_exporter": "python",
   "pygments_lexer": "ipython3",
   "version": "3.9.12"
  }
 },
 "nbformat": 4,
 "nbformat_minor": 5
}
