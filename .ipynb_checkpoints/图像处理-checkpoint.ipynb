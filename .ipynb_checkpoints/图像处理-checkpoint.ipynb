{
 "cells": [
  {
   "cell_type": "markdown",
   "id": "137b3d29",
   "metadata": {},
   "source": [
    "# 形态学操作"
   ]
  },
  {
   "cell_type": "markdown",
   "id": "1c0feac3",
   "metadata": {},
   "source": [
    "## 形态学-腐蚀操作\n",
    "腐蚀是最基本的形态学操作之一，它能够将图像的边界点消除，使图像沿着边界向内收缩，也可以将小于指定结构体元素的部分去除。"
   ]
  },
  {
   "cell_type": "code",
   "execution_count": 3,
   "id": "8aad421d",
   "metadata": {},
   "outputs": [],
   "source": [
    "import cv2\n",
    "import numpy as np\n",
    "import matplotlib.pyplot as plt"
   ]
  },
  {
   "cell_type": "code",
   "execution_count": 4,
   "id": "22f47540",
   "metadata": {},
   "outputs": [],
   "source": [
    "img = cv2.imread(\"j-erode.PNG\")\n",
    "cv2.imshow('image',img)\n",
    "cv2.waitKey(0)\n",
    "cv2.destroyAllWindows()"
   ]
  },
  {
   "cell_type": "code",
   "execution_count": 5,
   "id": "26d7f2fc",
   "metadata": {},
   "outputs": [],
   "source": [
    "kernel = np.ones((5,5),np.uint8)\n",
    "erosion = cv2.erode(img,kernel,iterations=1)\n",
    "cv2.imshow('erosion',erosion)\n",
    "cv2.waitKey(0)\n",
    "cv2.destroyAllWindows()"
   ]
  },
  {
   "cell_type": "code",
   "execution_count": 6,
   "id": "7c2f73b2",
   "metadata": {},
   "outputs": [],
   "source": [
    "pie = cv2.imread('circle.PNG')\n",
    "cv2.imshow('circle',pie)\n",
    "cv2.waitKey(0)\n",
    "cv2.destroyAllWindows()"
   ]
  },
  {
   "cell_type": "code",
   "execution_count": 8,
   "id": "e95ed1a7",
   "metadata": {},
   "outputs": [],
   "source": [
    "kernel = np.ones((30,30),np.uint8)\n",
    "erosion1 = cv2.erode(pie,kernel,iterations=1)\n",
    "erosion2 = cv2.erode(pie,kernel,iterations=2)\n",
    "erosion3 = cv2.erode(pie,kernel,iterations=3)\n",
    "res = np.hstack((erosion1,erosion2,erosion3))\n",
    "cv2.imshow('res',res)\n",
    "cv2.waitKey(0)\n",
    "cv2.destroyAllWindows()"
   ]
  },
  {
   "cell_type": "markdown",
   "id": "3101920c",
   "metadata": {},
   "source": [
    "## 形态学-膨胀操作\n",
    "和腐蚀互为逆操作，腐蚀操作后原来的目标图像被腐蚀掉一部分，然后使用膨胀操作可以放大一点"
   ]
  },
  {
   "cell_type": "code",
   "execution_count": 11,
   "id": "494ae3c3",
   "metadata": {},
   "outputs": [],
   "source": [
    "kernel = np.ones((3,3),np.uint8)\n",
    "dilate = cv2.dilate(img,kernel,iterations=1)\n",
    "cv2.imshow('dilate',dilate)\n",
    "cv2.waitKey(0)\n",
    "cv2.destroyAllWindows()"
   ]
  },
  {
   "cell_type": "markdown",
   "id": "d10ef657",
   "metadata": {},
   "source": []
  }
 ],
 "metadata": {
  "kernelspec": {
   "display_name": "Python 3 (ipykernel)",
   "language": "python",
   "name": "python3"
  },
  "language_info": {
   "codemirror_mode": {
    "name": "ipython",
    "version": 3
   },
   "file_extension": ".py",
   "mimetype": "text/x-python",
   "name": "python",
   "nbconvert_exporter": "python",
   "pygments_lexer": "ipython3",
   "version": "3.9.12"
  }
 },
 "nbformat": 4,
 "nbformat_minor": 5
}
